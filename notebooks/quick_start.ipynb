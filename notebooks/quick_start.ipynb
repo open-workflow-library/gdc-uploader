{
 "cells": [
  {
   "cell_type": "markdown",
   "metadata": {},
   "source": [
    "# GDC Uploader Quick Start\n",
    "\n",
    "This notebook demonstrates basic usage of the GDC Uploader."
   ]
  },
  {
   "cell_type": "code",
   "execution_count": null,
   "metadata": {},
   "outputs": [],
   "source": [
    "# Import required modules\n",
    "from pathlib import Path\n",
    "from gdc_uploader import (\n",
    "    validate_manifest,\n",
    "    find_manifest_entry,\n",
    "    validate_token,\n",
    "    find_file\n",
    ")"
   ]
  },
  {
   "cell_type": "markdown",
   "metadata": {},
   "source": [
    "## Step 1: Validate Inputs"
   ]
  },
  {
   "cell_type": "code",
   "execution_count": null,
   "metadata": {},
   "outputs": [],
   "source": [
    "# Load and validate manifest\n",
    "manifest_path = Path(\"manifest.json\")\n",
    "entries = validate_manifest(manifest_path)\n",
    "print(f\"Found {len(entries)} files in manifest\")"
   ]
  },
  {
   "cell_type": "code",
   "execution_count": null,
   "metadata": {},
   "outputs": [],
   "source": [
    "# Find specific file entry\n",
    "target_file = \"sample.fastq.gz\"\n",
    "entry = find_manifest_entry(entries, target_file)\n",
    "print(f\"File ID: {entry['id']}\")"
   ]
  },
  {
   "cell_type": "code",
   "execution_count": null,
   "metadata": {},
   "outputs": [],
   "source": [
    "# Validate token\n",
    "token_path = Path(\"token.txt\")\n",
    "token = validate_token(token_path)\n",
    "print(\"Token validated successfully\")"
   ]
  },
  {
   "cell_type": "markdown",
   "metadata": {},
   "source": [
    "## Step 2: Find and Upload File"
   ]
  },
  {
   "cell_type": "code",
   "execution_count": null,
   "metadata": {},
   "outputs": [],
   "source": [
    "# Find file\n",
    "file_path = find_file(target_file)\n",
    "if file_path:\n",
    "    print(f\"Found file at: {file_path}\")\n",
    "else:\n",
    "    print(\"File not found\")"
   ]
  },
  {
   "cell_type": "code",
   "execution_count": null,
   "metadata": {},
   "outputs": [],
   "source": [
    "# Upload file (example - requires actual GDC endpoint)\n",
    "from gdc_uploader import upload_file_with_progress\n",
    "\n",
    "if file_path:\n",
    "    try:\n",
    "        result = upload_file_with_progress(\n",
    "            file_path=file_path,\n",
    "            file_id=entry['id'],\n",
    "            token=token\n",
    "        )\n",
    "        print(\"Upload successful!\")\n",
    "        print(result)\n",
    "    except Exception as e:\n",
    "        print(f\"Upload failed: {e}\")"
   ]
  }
 ],
 "metadata": {
  "kernelspec": {
   "display_name": "Python 3",
   "language": "python",
   "name": "python3"
  },
  "language_info": {
   "codemirror_mode": {
    "name": "ipython",
    "version": 3
   },
   "file_extension": ".py",
   "mimetype": "text/x-python",
   "name": "python",
   "nbconvert_exporter": "python",
   "pygments_lexer": "ipython3",
   "version": "3.9.0"
  }
 },
 "nbformat": 4,
 "nbformat_minor": 4
}